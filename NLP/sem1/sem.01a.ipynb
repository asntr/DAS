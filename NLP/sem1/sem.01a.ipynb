{
 "cells": [
  {
   "cell_type": "markdown",
   "metadata": {},
   "source": [
    "# Стандарт Unicode\n",
    "Автоматическая обработка текстов - 2017, семинар 1"
   ]
  },
  {
   "cell_type": "markdown",
   "metadata": {},
   "source": [
    "## Unicode"
   ]
  },
  {
   "cell_type": "markdown",
   "metadata": {},
   "source": [
    "У каждого символа в Unicode есть свойства (property), которые могут сообщить нам много полезной информации о символе. Попробуем с ними немного поиграться.\n",
    "\n",
    "1. Определите, к какой категории относятся цифры в различных письменностях.\n",
    "2. Найдите их все, сохраните в словарь {character: value} и выведите на экран.\n",
    "3. Напишите функцию, распознающую числа, состоящие из цифр различных письменностей, и распознайте **8٥۵९७੩૧**."
   ]
  },
  {
   "cell_type": "code",
   "execution_count": 4,
   "metadata": {},
   "outputs": [
    {
     "name": "stdout",
     "output_type": "stream",
     "text": [
      "0\n",
      "1\n",
      "2\n",
      "3\n",
      "4\n",
      "5\n",
      "6\n",
      "7\n",
      "8\n",
      "9\n",
      "8559731\n"
     ]
    },
    {
     "data": {
      "text/plain": [
       "'Nd'"
      ]
     },
     "execution_count": 4,
     "metadata": {},
     "output_type": "execute_result"
    }
   ],
   "source": [
    "import unicodedata\n",
    "import re\n",
    "\n",
    "### YOUR CODE HERE\n",
    "# Print different digits in this section and create dictionary\n",
    "mapping = {}\n",
    "for i in range(10):\n",
    "    print(i)\n",
    "    mapping[i] = str(i)\n",
    "### END YOUR CODE\n",
    "\n",
    "def decode_digits(string, mapping):\n",
    "    ### YOUR CODE HERE\n",
    "    return ''.join([mapping[unicodedata.digit(ch)] for ch in string])\n",
    "    ### END YOUR CODE\n",
    "\n",
    "print(decode_digits('8٥۵९७੩૧', mapping))"
   ]
  },
  {
   "cell_type": "markdown",
   "metadata": {},
   "source": [
    "Поработаем с арабским алфавитом. Возможно, для этого вам понадобится знать хотя бы одну арабскую букву. К примеру, возьмем следующую **ع**.\n",
    "\n",
    "1. Напишите функцию, находящую все арабские буквы с огласовками и без.  \n",
    "_Подсказка_: воспользуйтесь функцией name.\n",
    "2. Напишите функцию, находящую все арабские буквы без огласовок (обычно в name, когда буква с огласовкой, пишут \"WITH ...\")."
   ]
  },
  {
   "cell_type": "code",
   "execution_count": 242,
   "metadata": {
    "collapsed": true
   },
   "outputs": [],
   "source": [
    "def get_arabic_letters():\n",
    "    arabic_letter_regexp = re.compile('^.*ARABIC LETTER.*$')\n",
    "    arabic_letters = []\n",
    "    for i in range(0x110000):\n",
    "        name = unicodedata.name(chr(i), None)\n",
    "        if name is not None and arabic_letter_regexp.match(name):\n",
    "            arabic_letters.append(chr(i))\n",
    "    return arabic_letters\n",
    "\n",
    "def clean_arabic_letters():\n",
    "    arabic_letter_regexp = re.compile('^.*ARABIC LETTER.*$')\n",
    "    not_clean = re.compile('^.*ARABIC LETTER.*WITH.*$')\n",
    "    clean_arabic_letters = []\n",
    "    for i in range(0x110000):\n",
    "        name = unicodedata.name(chr(i), None)\n",
    "        if name is not None and arabic_letter_regexp.match(name) and not not_clean.match(name):\n",
    "            clean_arabic_letters.append(chr(i))\n",
    "    return clean_arabic_letters"
   ]
  },
  {
   "cell_type": "markdown",
   "metadata": {},
   "source": [
    "Попробуйте нормализовать арабские символы при помощью различных нормализаторов и проверьте, склеются ли какие-нибудь символы, или нет?"
   ]
  },
  {
   "cell_type": "code",
   "execution_count": 246,
   "metadata": {},
   "outputs": [
    {
     "name": "stdout",
     "output_type": "stream",
     "text": [
      "['\\u061c', 'ؠ', 'ء', 'آ', 'أ', 'ؤ', 'إ', 'ئ', 'ا', 'ب', 'ة', 'ت', 'ث', 'ج', 'ح', 'خ', 'د', 'ذ', 'ر', 'ز', 'س', 'ش', 'ص', 'ض', 'ط', 'ظ', 'ع', 'غ', 'ػ', 'ؼ', 'ؽ', 'ؾ', 'ؿ', 'ف', 'ق', 'ك', 'ل', 'م', 'ن', 'ه', 'و', 'ى', 'ي', 'ٮ', 'ٯ', 'ٰ', 'ٱ', 'ٲ', 'ٳ', 'ٴ', 'ٵ', 'ٶ', 'ٷ', 'ٸ', 'ٹ', 'ٺ', 'ٻ', 'ټ', 'ٽ', 'پ', 'ٿ', 'ڀ', 'ځ', 'ڂ', 'ڃ', 'ڄ', 'څ', 'چ', 'ڇ', 'ڈ', 'ډ', 'ڊ', 'ڋ', 'ڌ', 'ڍ', 'ڎ', 'ڏ', 'ڐ', 'ڑ', 'ڒ', 'ړ', 'ڔ', 'ڕ', 'ږ', 'ڗ', 'ژ', 'ڙ', 'ښ', 'ڛ', 'ڜ', 'ڝ', 'ڞ', 'ڟ', 'ڠ', 'ڡ', 'ڢ', 'ڣ', 'ڤ', 'ڥ', 'ڦ', 'ڧ', 'ڨ', 'ک', 'ڪ', 'ګ', 'ڬ', 'ڭ', 'ڮ', 'گ', 'ڰ', 'ڱ', 'ڲ', 'ڳ', 'ڴ', 'ڵ', 'ڶ', 'ڷ', 'ڸ', 'ڹ', 'ں', 'ڻ', 'ڼ', 'ڽ', 'ھ', 'ڿ', 'ۀ', 'ہ', 'ۂ', 'ۃ', 'ۄ', 'ۅ', 'ۆ', 'ۇ', 'ۈ', 'ۉ', 'ۊ', 'ۋ', 'ی', 'ۍ', 'ێ', 'ۏ', 'ې', 'ۑ', 'ے', 'ۓ', 'ە', 'ۮ', 'ۯ', 'ۺ', 'ۻ', 'ۼ', 'ۿ', 'ݐ', 'ݑ', 'ݒ', 'ݓ', 'ݔ', 'ݕ', 'ݖ', 'ݗ', 'ݘ', 'ݙ', 'ݚ', 'ݛ', 'ݜ', 'ݝ', 'ݞ', 'ݟ', 'ݠ', 'ݡ', 'ݢ', 'ݣ', 'ݤ', 'ݥ', 'ݦ', 'ݧ', 'ݨ', 'ݩ', 'ݪ', 'ݫ', 'ݬ', 'ݭ', 'ݮ', 'ݯ', 'ݰ', 'ݱ', 'ݲ', 'ݳ', 'ݴ', 'ݵ', 'ݶ', 'ݷ', 'ݸ', 'ݹ', 'ݺ', 'ݻ', 'ݼ', 'ݽ', 'ݾ', 'ݿ', 'ࢠ', 'ࢡ', 'ࢢ', 'ࢣ', 'ࢤ', 'ࢥ', 'ࢦ', 'ࢧ', 'ࢨ', 'ࢩ', 'ࢪ', 'ࢫ', 'ࢬ', 'ࢭ', 'ࢮ', 'ࢯ', 'ࢰ', 'ࢱ', 'ࢲ', 'ࢳ', 'ࢴ', 'ࢶ', 'ࢷ', 'ࢸ', 'ࢹ', 'ࢺ', 'ࢻ', 'ࢼ', 'ࢽ', 'ﭐ', 'ﭑ', 'ﭒ', 'ﭓ', 'ﭔ', 'ﭕ', 'ﭖ', 'ﭗ', 'ﭘ', 'ﭙ', 'ﭚ', 'ﭛ', 'ﭜ', 'ﭝ', 'ﭞ', 'ﭟ', 'ﭠ', 'ﭡ', 'ﭢ', 'ﭣ', 'ﭤ', 'ﭥ', 'ﭦ', 'ﭧ', 'ﭨ', 'ﭩ', 'ﭪ', 'ﭫ', 'ﭬ', 'ﭭ', 'ﭮ', 'ﭯ', 'ﭰ', 'ﭱ', 'ﭲ', 'ﭳ', 'ﭴ', 'ﭵ', 'ﭶ', 'ﭷ', 'ﭸ', 'ﭹ', 'ﭺ', 'ﭻ', 'ﭼ', 'ﭽ', 'ﭾ', 'ﭿ', 'ﮀ', 'ﮁ', 'ﮂ', 'ﮃ', 'ﮄ', 'ﮅ', 'ﮆ', 'ﮇ', 'ﮈ', 'ﮉ', 'ﮊ', 'ﮋ', 'ﮌ', 'ﮍ', 'ﮎ', 'ﮏ', 'ﮐ', 'ﮑ', 'ﮒ', 'ﮓ', 'ﮔ', 'ﮕ', 'ﮖ', 'ﮗ', 'ﮘ', 'ﮙ', 'ﮚ', 'ﮛ', 'ﮜ', 'ﮝ', 'ﮞ', 'ﮟ', 'ﮠ', 'ﮡ', 'ﮢ', 'ﮣ', 'ﮤ', 'ﮥ', 'ﮦ', 'ﮧ', 'ﮨ', 'ﮩ', 'ﮪ', 'ﮫ', 'ﮬ', 'ﮭ', 'ﮮ', 'ﮯ', 'ﮰ', 'ﮱ', 'ﯓ', 'ﯔ', 'ﯕ', 'ﯖ', 'ﯗ', 'ﯘ', 'ﯙ', 'ﯚ', 'ﯛ', 'ﯜ', 'ﯝ', 'ﯞ', 'ﯟ', 'ﯠ', 'ﯡ', 'ﯢ', 'ﯣ', 'ﯤ', 'ﯥ', 'ﯦ', 'ﯧ', 'ﯨ', 'ﯩ', 'ﯼ', 'ﯽ', 'ﯾ', 'ﯿ', 'ﺀ', 'ﺁ', 'ﺂ', 'ﺃ', 'ﺄ', 'ﺅ', 'ﺆ', 'ﺇ', 'ﺈ', 'ﺉ', 'ﺊ', 'ﺋ', 'ﺌ', 'ﺍ', 'ﺎ', 'ﺏ', 'ﺐ', 'ﺑ', 'ﺒ', 'ﺓ', 'ﺔ', 'ﺕ', 'ﺖ', 'ﺗ', 'ﺘ', 'ﺙ', 'ﺚ', 'ﺛ', 'ﺜ', 'ﺝ', 'ﺞ', 'ﺟ', 'ﺠ', 'ﺡ', 'ﺢ', 'ﺣ', 'ﺤ', 'ﺥ', 'ﺦ', 'ﺧ', 'ﺨ', 'ﺩ', 'ﺪ', 'ﺫ', 'ﺬ', 'ﺭ', 'ﺮ', 'ﺯ', 'ﺰ', 'ﺱ', 'ﺲ', 'ﺳ', 'ﺴ', 'ﺵ', 'ﺶ', 'ﺷ', 'ﺸ', 'ﺹ', 'ﺺ', 'ﺻ', 'ﺼ', 'ﺽ', 'ﺾ', 'ﺿ', 'ﻀ', 'ﻁ', 'ﻂ', 'ﻃ', 'ﻄ', 'ﻅ', 'ﻆ', 'ﻇ', 'ﻈ', 'ﻉ', 'ﻊ', 'ﻋ', 'ﻌ', 'ﻍ', 'ﻎ', 'ﻏ', 'ﻐ', 'ﻑ', 'ﻒ', 'ﻓ', 'ﻔ', 'ﻕ', 'ﻖ', 'ﻗ', 'ﻘ', 'ﻙ', 'ﻚ', 'ﻛ', 'ﻜ', 'ﻝ', 'ﻞ', 'ﻟ', 'ﻠ', 'ﻡ', 'ﻢ', 'ﻣ', 'ﻤ', 'ﻥ', 'ﻦ', 'ﻧ', 'ﻨ', 'ﻩ', 'ﻪ', 'ﻫ', 'ﻬ', 'ﻭ', 'ﻮ', 'ﻯ', 'ﻰ', 'ﻱ', 'ﻲ', 'ﻳ', 'ﻴ']\n",
      "['ء', 'ا', 'ب', 'ة', 'ت', 'ث', 'ج', 'ح', 'خ', 'د', 'ذ', 'ر', 'ز', 'س', 'ش', 'ص', 'ض', 'ط', 'ظ', 'ع', 'غ', 'ف', 'ق', 'ك', 'ل', 'م', 'ن', 'ه', 'و', 'ى', 'ي', 'ٮ', 'ٯ', 'ٰ', 'ٱ', 'ٴ', 'ٵ', 'ٶ', 'ٸ', 'ٹ', 'ٺ', 'ٻ', 'پ', 'ٿ', 'ڀ', 'ڃ', 'ڄ', 'چ', 'ڇ', 'ڈ', 'ڌ', 'ڍ', 'ڎ', 'ڑ', 'ژ', 'ڡ', 'ڤ', 'ڦ', 'ک', 'ڪ', 'ڭ', 'گ', 'ڱ', 'ڳ', 'ں', 'ڻ', 'ھ', 'ہ', 'ۃ', 'ۅ', 'ۆ', 'ۇ', 'ۈ', 'ۉ', 'ۋ', 'ی', 'ې', 'ے', 'ە']\n"
     ]
    }
   ],
   "source": [
    "### YOUR CODE HERE\n",
    "print(get_arabic_letters())\n",
    "print(get_clean_arabic_letters())\n",
    "### END YOUR CODE"
   ]
  },
  {
   "cell_type": "markdown",
   "metadata": {},
   "source": [
    "Напишите функцию по удалению диакритики из текста."
   ]
  },
  {
   "cell_type": "code",
   "execution_count": 78,
   "metadata": {},
   "outputs": [
    {
     "name": "stdout",
     "output_type": "stream",
     "text": [
      "Клевыи иетти разжег костер из березы, елки и клена.\n"
     ]
    }
   ],
   "source": [
    "sent = 'Клёвый йетти разжёг костёр из берёзы, ёлки и клёна.'\n",
    "\n",
    "def delete_diacritic(sent):\n",
    "    ### YOUR CODE HERE\n",
    "    return ''.join([unicodedata.normalize('NFD', ch)[0] for ch in sent])\n",
    "    ### END YOUR CODE\n",
    "\n",
    "print(delete_diacritic(sent))"
   ]
  },
  {
   "cell_type": "markdown",
   "metadata": {},
   "source": [
    "## Как сдавать\n",
    "\n",
    "В Яндекс.Контест вам нужно будет сдать файл ***.py**, в котором будут функции *decode_digits*, *get_arabic_letters*, *get_clean_arabic_letters* и *delete_diacritic*.\n",
    "\n",
    "В контесте будет три теста: на распознавание цифр, на арабские буквы и на снятие диакритики."
   ]
  }
 ],
 "metadata": {
  "kernelspec": {
   "display_name": "Python 3",
   "language": "python",
   "name": "python3"
  },
  "language_info": {
   "codemirror_mode": {
    "name": "ipython",
    "version": 3
   },
   "file_extension": ".py",
   "mimetype": "text/x-python",
   "name": "python",
   "nbconvert_exporter": "python",
   "pygments_lexer": "ipython3",
   "version": "3.6.1"
  }
 },
 "nbformat": 4,
 "nbformat_minor": 1
}
