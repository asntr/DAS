{
 "cells": [
  {
   "cell_type": "markdown",
   "metadata": {},
   "source": [
    "# Лабораторная работа 1"
   ]
  },
  {
   "cell_type": "markdown",
   "metadata": {},
   "source": [
    "Не забываем загрузить библиотеки:"
   ]
  },
  {
   "cell_type": "code",
   "execution_count": 49,
   "metadata": {
    "collapsed": true
   },
   "outputs": [],
   "source": [
    "# Библиотека для работы с матрицами\n",
    "import numpy as np \n",
    "\n",
    "import scipy as sp\n",
    "\n",
    "# Алгоритмы линейной алгебры\n",
    "import scipy.linalg as sla\n",
    "\n",
    "# Библиотека для работы с разреженными матрицами\n",
    "import scipy.sparse as sps\n",
    "\n",
    "# Алгоритмы линейной алгебры для разреженных матриц\n",
    "import scipy.sparse.linalg as spla\n",
    "\n",
    "# Графическая библиотека\n",
    "import matplotlib.pyplot as plt\n",
    "\n",
    "# Библиотека для измерения времени\n",
    "import timeit\n",
    "\n",
    "# Позволяет отрисовывать графики и изображения прямо в ноутбуке, а не в отдельном окне. Жизненно важная вещь!\n",
    "%matplotlib inline"
   ]
  },
  {
   "cell_type": "markdown",
   "metadata": {},
   "source": [
    "## Часть 1. Особенности LU-разложения\n",
    "\n",
    "С точки зрения математики матричные разложения являются точными: произведение сомножителей всегда равняется исходной матрицы $A$. К сожалению, на практике этом часто мешает вычислительная погрешность. \n",
    "\n",
    "Для $LU$ разложения l2-норма ошибки ошибки $||\\delta A|| = ||A - LU||$ удовлетворяет следующей оценке:\n",
    "\n",
    "$$||\\delta A|| \\leqslant ||L|| \\cdot ||U|| \\cdot O(\\varepsilon_{machine})$$\n",
    "\n",
    "А нормы $L$ и $U$ могут быть совсем нехорошими."
   ]
  },
  {
   "cell_type": "markdown",
   "metadata": {},
   "source": [
    "**Задание 1.1 (1 балл)** Рассмотрим следующее LU-разложение:\n",
    "\n",
    "$$\\begin{pmatrix}\n",
    "10^{-20} & 1\\\\\n",
    "1 & 1\n",
    "\\end{pmatrix} = \\begin{pmatrix}\n",
    "1 & 0\\\\\n",
    "10^{20} & 1\n",
    "\\end{pmatrix}\\cdot\\begin{pmatrix}\n",
    "10^{-20} & 1\\\\\n",
    "0 & 1 - 10^{20}\n",
    "\\end{pmatrix}$$\n",
    "\n",
    "Перемножьте полученные матрицы $L$ и $U$. А теперь перемножьте такие же матрицы, только после всех единиц поставьте десятичные точки. Изменился ли ответ? Как вам кажется, почему?"
   ]
  },
  {
   "cell_type": "code",
   "execution_count": 3,
   "metadata": {
    "collapsed": false
   },
   "outputs": [
    {
     "name": "stdout",
     "output_type": "stream",
     "text": [
      "int: \n",
      "[[1e-20 1]\n",
      " [1.0 1]]\n",
      "double: \n",
      "[[1e-20 1.0]\n",
      " [1.0 0.0]]\n"
     ]
    }
   ],
   "source": [
    "L1 = np.array([[1, 0], [10 ** 20, 1]])\n",
    "U1 = np.array([[10 ** -20, 1], [0, 1 - (10 ** 20)]])\n",
    "\n",
    "L2 = np.array([[1., 0], [10 ** 20, 1.]])\n",
    "U2 = np.array([[10 ** -20, 1.], [0, 1. - (10 ** 20)]])\n",
    "\n",
    "print(\"int: \", L1.dot(U1), sep='\\n')\n",
    "print(\"double: \", L2.dot(U2), sep='\\n')"
   ]
  },
  {
   "cell_type": "markdown",
   "metadata": {},
   "source": [
    "**Ответ: **При работе с целочисленным типом все операции производятся точно (до тех пор пока помещаются в отведенное ограничение). При работе с числами в формате с плавающей точкой учитывем, что они представляются в виде мантиссы, основания и порядка. число $10^{20}$ достаточно велико, чтобы мантиссы $10^{20}$ и $10^{20} - 1$ совпадали. В таком случае получаем что их разность равняется 0"
   ]
  },
  {
   "cell_type": "markdown",
   "metadata": {},
   "source": [
    "Отметим, что в реальных вычислениях матричные элементы почти наверняка с самого начала будут числами с плавающей точкой (а не целыми).\n",
    "\n",
    "Теперь проверьте, что будет, если вычислить QR-разложение исходной матрицы и перемножить матрицы $Q$ и $R$."
   ]
  },
  {
   "cell_type": "code",
   "execution_count": 13,
   "metadata": {
    "collapsed": false
   },
   "outputs": [
    {
     "name": "stdout",
     "output_type": "stream",
     "text": [
      "Q =\n",
      " [[ 0. -1.]\n",
      " [-1.  0.]],\n",
      "R =\n",
      " [[-1. -1.]\n",
      " [ 0. -1.]],\n",
      "A =\n",
      " [[ 0.  1.]\n",
      " [ 1.  1.]]\n"
     ]
    }
   ],
   "source": [
    "A = np.array([[10 ** -20, 1.], [1., 1.]])\n",
    "\n",
    "Q, R = sla.qr(A)\n",
    "\n",
    "print(\"Q =\\n {},\\nR =\\n {},\\nA =\\n {}\".format(Q, R, Q.dot(R)))"
   ]
  },
  {
   "cell_type": "markdown",
   "metadata": {},
   "source": [
    "**Выход: LU-разложение с выбором главного элемента (по столбцу)**\n",
    "\n",
    "Каждый раз ищем максимум в столбце и переставляем соответствующую строку наверх.\n",
    "\n",
    "$$\\begin{pmatrix}\n",
    "b_{11} & \\dots & b_{1i} & b_{1,i+1} & \\dots & b_{1n}\\\\\n",
    " & \\ddots & \\vdots & \\vdots & & \\vdots\\\\\n",
    " & & \\color{blue}{b_{ii}} & \\color{blue}{b_{i,i+1}} & \\dots & \\color{blue}{b_{in}} \\\\\n",
    " & & b_{i+1,i} & b_{i+1,i+1} & \\dots & b_{i+1,n}\\\\\n",
    " & & \\vdots & \\vdots &  & \\vdots \\\\\n",
    " & & \\color{green}{b_{ji}} & \\color{green}{b_{j,i+1}} & \\dots & \\color{green}{b_{jn}} \\\\\n",
    " & & \\vdots & \\vdots & & \\vdots\\\\\n",
    "\\end{pmatrix}\\longrightarrow\n",
    "\\begin{pmatrix}\n",
    "b_{11} & \\dots & b_{1i} & b_{1,i+1} & \\dots & b_{1n}\\\\\n",
    " & \\ddots & \\vdots & \\vdots & & \\vdots\\\\\n",
    " & & \\color{green}{b_{ji}} & \\color{green}{b_{j,i+1}} & \\dots & \\color{green}{b_{jn}} \\\\\n",
    " & & b_{i+1,i} & b_{i+1,i+1} & \\dots & b_{i+1,n}\\\\\n",
    " & & \\vdots & \\vdots &  & \\vdots \\\\\n",
    " & & \\color{blue}{b_{ii}} & \\color{blue}{b_{i,i+1}} & \\dots & \\color{blue}{b_{in}} \\\\\n",
    " & & \\vdots & \\vdots & & \\vdots\\\\\n",
    "\\end{pmatrix}\\longrightarrow$$\n",
    "$$\\longrightarrow\\begin{pmatrix}\n",
    "b_{11} & \\dots & b_{1i} & b_{1,i+1} & \\dots & b_{1n}\\\\\n",
    " & \\ddots & \\vdots & \\vdots & & \\vdots\\\\\n",
    " & & \\color{green}{b_{ji}} & \\color{green}{b_{j,i+1}} & \\dots & \\color{green}{b_{jn}} \\\\\n",
    " & & 0 & b'_{i+1,i+1} & \\dots & b'_{i+1,n}\\\\\n",
    " & & \\vdots & \\vdots &  & \\vdots \\\\\n",
    " & & 0 & b'_{i,i+1} & \\dots & b'_{in} \\\\\n",
    " & & \\vdots & \\vdots & & \\vdots\n",
    "\\end{pmatrix}$$\n",
    "\n",
    "Надо сказать, что примерно так вы все и решали системы на первом курсе университета! Именно наибольший, а не первый ненулевой элемент столбца берётся потому, что чем больше число - тем меньшие погрешности потенциально вносит деление на него."
   ]
  },
  {
   "cell_type": "markdown",
   "metadata": {},
   "source": [
    "Что при этом происходит? Перестановка строк матрицы равносильна умножению её слева на матрицу соответствующей перестановки. Таким образом, мы получаем равенство\n",
    "\n",
    "$$L_nP_nL_{n-1}P_{n-1}\\ldots L_2P_2L_1P_1 A = U\\qquad\\qquad(1)$$\n",
    "\n",
    "где $L_1,\\ldots,L_n$ - некоторые нижнетреугольные матрицы.\n",
    "\n",
    "**Вопрос:** Ну, и где здесь матрица $L$?!\n",
    "\n",
    "**Ответ:** Введём новые матрицы\n",
    "\n",
    "\\begin{align*}\n",
    "L'_n &= L_n\\\\\n",
    "L'_{n-1} &= P_nL_nP_{n-1}\\\\\n",
    "L'_{n-2} &= P_nP_{n-1}L_{n-1}P_n^{-1}P_{n-1}^{-1}\\\\\n",
    "&\\ldots\\\\\n",
    "L'_1 &= P_nP_{n-1}\\ldots P_2L_1P_2^{-1}\\ldots P_{n-1}^{-1}P_n^{-1}\n",
    "\\end{align*}\n",
    "\n",
    "**Упражнение.** Матрицы $L'_i$ тоже нижнетреугольные!\n",
    "\n",
    "Тогда левая часть (1) перепишется в виде\n",
    "\n",
    "$$\\underbrace{L'_nL'_{n-1}\\ldots L'_1}_{:=L^{-1}}\\underbrace{P_nP_{n-1}\\ldots P_1}_{:=P^{-1}}\\cdot A$$"
   ]
  },
  {
   "cell_type": "markdown",
   "metadata": {},
   "source": [
    "**Итог:** разложение вида\n",
    "$$A = PLU$$\n",
    "где $P$ - матрица перестановки.\n",
    "\n",
    "Функция `scipy.linalg.lu` в Питоне находит именно такое разложение!\n",
    "\n",
    "Все элементы $L$ не превосходят $1$, так что $||L||]\\leqslant 1$. При этом\n",
    "$$||\\Delta A|| \\leqslant ||A||\\cdot O(\\rho \\varepsilon_{machine}),$$\n",
    "где\n",
    "$$\\rho = \\frac{\\max_{i,j}|u_{ij}|}{\\max_{i,j}|a_{ij}|}$$\n",
    "\n",
    "Но что, если это отношение велико?"
   ]
  },
  {
   "cell_type": "markdown",
   "metadata": {},
   "source": [
    "**Задание 1.2 (1 балл)** Сгенерируйте матрицу $500\\times500$, имеющую вид\n",
    "\n",
    "$$\\begin{pmatrix}\n",
    "1 & 0 & 0 & \\cdots & 0 & 0 & 1\\\\\n",
    "-1 & 1 & 0 &  &  & 0 & 1\\\\\n",
    "-1 & -1 & 1 & 0  &  & 0 & 1\\\\\n",
    "\\vdots & & \\ddots & \\ddots  & \\ddots & \\vdots & \\vdots \\\\\n",
    "-1 & -1 & -1 & \\ddots & 1 & 0 & 1\\\\\n",
    "-1 & -1 & -1 &  & -1 & 1 & 1\\\\\n",
    "-1 & -1 & -1 & \\cdots & -1 & -1 & 1\n",
    "\\end{pmatrix}$$\n",
    "\n",
    "Например, сгенерировать сначала нулевую матрицу нужного размера, а потом заполнить её клетки правильными числами.\n",
    "\n",
    "Найдите её PLU-разложение и QR-разложение. Убедитесь, что $P = E$. Вычислите $||A - LU||_2$ и $||A - QR||_2$. Чему равен фактор роста матрицы $A$?"
   ]
  },
  {
   "cell_type": "code",
   "execution_count": 19,
   "metadata": {
    "collapsed": false
   },
   "outputs": [
    {
     "name": "stdout",
     "output_type": "stream",
     "text": [
      "[[ 1.  0.  0. ...,  0.  0.  1.]\n",
      " [-1.  1.  0. ...,  0.  0.  1.]\n",
      " [-1. -1.  1. ...,  0.  0.  1.]\n",
      " ..., \n",
      " [-1. -1. -1. ...,  1.  0.  1.]\n",
      " [-1. -1. -1. ..., -1.  1.  1.]\n",
      " [-1. -1. -1. ..., -1. -1.  1.]]\n",
      "la-residual:  3.10251707042e+116\n",
      "qr-residual:  1.22937714278e-12\n",
      "p: 1.63669530395e+150\n"
     ]
    }
   ],
   "source": [
    "size = 500\n",
    "A = np.zeros([size, size])\n",
    "\n",
    "for i in range(size):\n",
    "    for j in range(i):\n",
    "        A[i][j] = -1\n",
    "    A[i][i] = 1\n",
    "    A[i][size-1] = 1\n",
    "    \n",
    "print(A)\n",
    "\n",
    "P, L, U = sla.lu(A)\n",
    "Q, R = sla.qr(A)\n",
    "\n",
    "assert(np.array_equal(P, np.identity(size)))\n",
    "\n",
    "print(\"la-residual: \", sla.norm(A - L.dot(U)))\n",
    "print(\"qr-residual: \", sla.norm(A - Q.dot(R)))\n",
    "\n",
    "p = np.amax(U) / np.amax(A)\n",
    "print(\"p:\", p)"
   ]
  },
  {
   "cell_type": "markdown",
   "metadata": {},
   "source": [
    "К счастью, на практике так редко бывает (чёрт его знает почему). Тем не менее, QR-разложение всё-таки лучше. Теоретическая оценка для ошибки QR-разложения имеет вид\n",
    "\n",
    "$$||A - QR||_2 \\leqslant ||A||_2\\cdot O(\\varepsilon_{machine})$$"
   ]
  },
  {
   "cell_type": "markdown",
   "metadata": {},
   "source": [
    "**Задание 1.3 (1 балл)** Рассмотрим *матрицу Паскаля* $S_n = \\left(C_{i + j}^i\\right)$ ($i,j = 0,\\ldots,n-1$).\n",
    "\n",
    "Каково её LU-разложение? Выведите формулы для матриц L и U и приведите краткое обоснование прямо в ноутбуке. Не пользуйтесь функцией `scipy.linalg.lu`, чтобы его \"угадать\": матрица P будет отлична от единичной, и вы получите не то, что хотели.\n",
    "\n",
    "Каков её определитель?"
   ]
  },
  {
   "cell_type": "markdown",
   "metadata": {
    "collapsed": true
   },
   "source": [
    "**Ответ: **Воспользуемся известным равенством: $\\sum_{j = 0}^k\\binom{m}{j}\\binom{n-m}{k-j} = \\binom{n}{k}$. При подставлении $j = k, n = i + j, k = i, m = j$ получим $\\sum_{k = 0}^{i}\\binom{j}{k}\\binom{i}{i - k} = \\binom{i + j}{i} = \\sum_{k = 0}^{i}\\binom{j}{k}\\binom{i}{k}$, что является значением $ij$-го элемента матрицы $A$. Таким образом, $k$-й элемент $i$-й строки матрицы $L$ будет представлять собой $\\binom{i}{k}$, а $k$-й элемент $j$-го столбца матрицы $U$ $\\binom{j}{k}$. Нетрудно видеть, что диагональные элементы обеих матриц (они, кстати нижняя и верхняя треугольные) равны $1$, а значит и определители $= 1$, а путем несложных математических преобразований получим: $det A = det(LU) = detL \\times detU = 1$"
   ]
  },
  {
   "cell_type": "markdown",
   "metadata": {},
   "source": [
    "Напишите функцию `my_pascal(n)`, генерирующую матрицу Паскаля размера $n\\times n$.\n",
    "\n",
    "Найдите норму разности $||A - PLU||_2$. Не такая уж и большая, правда?"
   ]
  },
  {
   "cell_type": "code",
   "execution_count": 61,
   "metadata": {
    "collapsed": false
   },
   "outputs": [
    {
     "name": "stdout",
     "output_type": "stream",
     "text": [
      "norm:  17.5241909414\n"
     ]
    }
   ],
   "source": [
    "def my_pascal(size):\n",
    "    A = np.empty([size, size])\n",
    "    for i in range(size):\n",
    "        A[0][i] = 1\n",
    "        A[i][0] = 1\n",
    "    for i in range(size-1):\n",
    "        for j in range(size-1):\n",
    "            A[i+1][j+1] = A[i][j+1] + A[i+1][j]\n",
    "    return A\n",
    "\n",
    "A = my_pascal(30)\n",
    "\n",
    "P, L, U = sla.lu(A)\n",
    "\n",
    "print(\"norm: \", sla.norm(A - (P.dot(L)).dot(U)))"
   ]
  },
  {
   "cell_type": "markdown",
   "metadata": {},
   "source": [
    "Теперь попросим компьютер вычислить определитель матрицы Паскаля $30\\times30$ и решить простенькую систему уравнений:"
   ]
  },
  {
   "cell_type": "code",
   "execution_count": 62,
   "metadata": {
    "collapsed": false
   },
   "outputs": [
    {
     "name": "stdout",
     "output_type": "stream",
     "text": [
      "3.347360253314365e+49\n",
      "82761800.69880882\n"
     ]
    }
   ],
   "source": [
    "print(sla.det(A))\n",
    "\n",
    "# Try to solve a linear system\n",
    "x = np.ones(30)\n",
    "b = A.dot(x)\n",
    "x1 = sla.solve(A, b)\n",
    "print(sla.norm(x1 - x))"
   ]
  },
  {
   "cell_type": "markdown",
   "metadata": {},
   "source": [
    "Так себе ошибка. Теперь попробуем сделать это с помощью QR-разложения. Станет ли лучше?"
   ]
  },
  {
   "cell_type": "code",
   "execution_count": 64,
   "metadata": {
    "collapsed": false
   },
   "outputs": [
    {
     "name": "stdout",
     "output_type": "stream",
     "text": [
      "543417472.6483039\n"
     ]
    }
   ],
   "source": [
    "Q, R = sla.qr(A)\n",
    "x2 = sla.solve_triangular(R, Q.T.dot(b))\n",
    "print(sla.norm(x2 - x))"
   ]
  },
  {
   "cell_type": "markdown",
   "metadata": {},
   "source": [
    "Объясните полученные неприятные результаты."
   ]
  },
  {
   "cell_type": "code",
   "execution_count": 65,
   "metadata": {
    "collapsed": false
   },
   "outputs": [
    {
     "name": "stdout",
     "output_type": "stream",
     "text": [
      "Condition number = 6.543215829347474e+24\n"
     ]
    }
   ],
   "source": [
    "print(\"Condition number = {}\".format(sla.norm(A) * sla.norm(sla.inv(A))))"
   ]
  },
  {
   "cell_type": "markdown",
   "metadata": {},
   "source": [
    "**Объяснение: **Нетрудно видеть, что число невероятно велико, так что даже маленькие погрешности вызывают большие изменения ответа."
   ]
  },
  {
   "cell_type": "markdown",
   "metadata": {},
   "source": [
    "## Часть 2. Решение СЛАУ с положительно определённой матрицей"
   ]
  },
  {
   "cell_type": "markdown",
   "metadata": {},
   "source": [
    "**Задание 2.1. Какие же методы использовать? (3 балла)**"
   ]
  },
  {
   "cell_type": "markdown",
   "metadata": {},
   "source": [
    "Реализуйте несколько алгоритмов решения СЛАУ $Ax = b$, где $A = A^T$, $A \\geqslant 0$ с матричной правой частью $b$.\n",
    "\n",
    "1. **Наивный способ**: $x = A^{-1}b$;\n",
    "\n",
    "2. **Стандартный способ**: с помощью процедуры `solve` модуля `scipy.linalg`;\n",
    "\n",
    "3. **Разложение Холецкого**: с помощью разложения Холецкого для матрицы $A$ и последующего решения двух СЛАУ с треугольными матрицами;\n",
    "\n",
    "4. **Разложение Холецкого с процедурами scipy**: с помощью разложения Холецкого для матрицы $A$ и специальных процедур из пакета `scipy.linalg` (`cho_factor`, `cho_solve`).\n",
    "\n",
    "Для решения СЛАУ с треугольной матрицей можно воспользоваться функцией `solve_triangular` из пакета `scipy.linalg`."
   ]
  },
  {
   "cell_type": "code",
   "execution_count": 67,
   "metadata": {
    "collapsed": true
   },
   "outputs": [],
   "source": [
    "def naive_solve(A, b):\n",
    "    return sla.inv(A).dot(b)\n",
    "\n",
    "def standard_solve(A, b):\n",
    "    return sla.solve(A, b)\n",
    "\n",
    "def cholesky_decomposition_solve(A, b):\n",
    "    L = sla.cholesky(A, lower = True)\n",
    "    y = sla.solve_triangular(L, b, lower = True)\n",
    "    return sla.solve_triangular(L.T, y)\n",
    "\n",
    "def advanced_cholesky_solve(A, b):\n",
    "    return sla.cho_solve(sla.cho_factor(A), b)"
   ]
  },
  {
   "cell_type": "markdown",
   "metadata": {},
   "source": [
    "Проведите тестирование реализованных алгоритмов на небольшой СЛАУ на предмет совпадения ответов"
   ]
  },
  {
   "cell_type": "code",
   "execution_count": 83,
   "metadata": {
    "collapsed": false
   },
   "outputs": [
    {
     "name": "stdout",
     "output_type": "stream",
     "text": [
      "(7.6328601011589381e-13, 5.4774083580459329e-13, 1.2467509607540005e-12, 9.8178880163868187e-13)\n"
     ]
    }
   ],
   "source": [
    "def test(A, b, real_x):\n",
    "    naive_r = sla.norm(real_x - naive_solve(A, b))\n",
    "    standard_r = sla.norm(real_x - standard_solve(A, b))\n",
    "    cholesky_r = sla.norm(real_x - cholesky_decomposition_solve(A, b))\n",
    "    ad_cholesky_r = sla.norm(real_x - advanced_cholesky_solve(A, b))\n",
    "    return (naive_r, standard_r, cholesky_r, ad_cholesky_r)\n",
    "\n",
    "def generate_random_system(size, rhs_number = 1):\n",
    "    x = 100 * np.random.random_sample((size, rhs_number)) - 50\n",
    "    A = 100 * np.random.random_sample((size, size)) - 50\n",
    "    A = A.T.dot(A) # for ensuring that A > 0 and symmetric\n",
    "    b = A.dot(x)\n",
    "    return (A, b, x)\n",
    "\n",
    "A, b, x = generate_random_system(10)\n",
    "\n",
    "print(test(A, b, x))"
   ]
  },
  {
   "cell_type": "markdown",
   "metadata": {},
   "source": [
    "Проведите эксперименты и выясните, как меняется время работы этих методов\n",
    "\n",
    "- с ростом размера матрицы $A$ при фиксированном числе правых частей. Рассмотрите системы с 10, 100, 1000 правых частей;\n",
    "\n",
    "- с ростом числа правых частей при фиксированном размере матрицы $A$ (например, $100\\times100$).\n",
    "\n",
    "Обязательно нарисуйте графики (время работы от размера). Какой метод оказывается более быстрым?\n",
    "\n",
    "Для тестирования вам пригодятся случайные матрицы, сгенерированные с помощью функции `numpy.random.randn`. Но не забудьте, что в задаче речь идёт о *симметрических положительно определённых матрицах*. Так что подумайте, как из случайных матриц сделать симметрические положительно определённые.\n",
    "\n",
    "Матрицы левых частей должны быть не менее $100\\times100$: при меньших размерностях заметную роль могут играть факторы, не имеющие отношения к алгебре. Мы рекомендуем рассматривать системы с матрицами размера от 100 до 1000 и с числом правых частей от 10 до 10000. Приготовьтесь к тому, что эксперименты могут занять какое-то время."
   ]
  },
  {
   "cell_type": "code",
   "execution_count": 242,
   "metadata": {
    "collapsed": false
   },
   "outputs": [
    {
     "data": {
      "image/png": "[encoded data removed]",
      "text/plain": [
       "<matplotlib.figure.Figure at 0xa4c6350>"
      ]
     },
     "metadata": {},
     "output_type": "display_data"
    },
    {
     "data": {
      "image/png": "[encoded data removed]",
      "text/plain": [
       "<matplotlib.figure.Figure at 0xa786cf0>"
      ]
     },
     "metadata": {},
     "output_type": "display_data"
    }
   ],
   "source": [
    "import time\n",
    "\n",
    "functions = [naive_solve, standard_solve, cholesky_decomposition_solve, advanced_cholesky_solve]\n",
    "\n",
    "def fixed_number_test():\n",
    "    sizes = [100, 200, 300, 400, 500, 600, 700, 800, 900, 1000]\n",
    "    times = [[], [], [], []]\n",
    "    colors = ['r', 'g', 'b', 'y']\n",
    "    for size in sizes:\n",
    "        A, b, x = generate_random_system(size)\n",
    "        for i in range(len(functions)):\n",
    "            start = time.clock()\n",
    "            #res = %timeit -o functions[i](A, b)\n",
    "            #times[i].append(res.best)\n",
    "            for j in range(100):\n",
    "                functions[i](A, b)\n",
    "            times[i].append((time.clock() - start)/100.)\n",
    "    for i in range(len(times)):\n",
    "        plt.plot(sizes, times[i], colors[i])\n",
    "    plt.show()\n",
    "    \n",
    "def fixed_size_test():\n",
    "    size = 200\n",
    "    numbers = [1, 100, 500, 1000, 1500, 2000, 2500, 3000, 3500, 4000]\n",
    "    times = [[], [], [], []]\n",
    "    colors = ['r', 'g', 'b', 'y']\n",
    "    for number in numbers:\n",
    "        A, b, x = generate_random_system(100, number)\n",
    "        for i in range(len(functions)):\n",
    "            start = time.clock()\n",
    "            #res = %timeit -o functions[i](A, b)\n",
    "            #times[i].append(res.best)\n",
    "            for j in range(100):\n",
    "                functions[i](A, b)\n",
    "            times[i].append((time.clock() - start)/100.)\n",
    "    for i in range(len(times)):\n",
    "        plt.plot(numbers, times[i], colors[i])\n",
    "    plt.show()\n",
    "    \n",
    "fixed_size_test()\n",
    "plt.clf()\n",
    "fixed_number_test()"
   ]
  },
  {
   "cell_type": "markdown",
   "metadata": {},
   "source": [
    "*Если фиксировать размер матрицы А (первая картинка), то наивный способ является самым предпочтительным. Библиотечный Холецкий на втором месте, а остальные два варианта не сильно рознятся. Во-втором случае имеем явных лидеров - стандартный и библ. Холецкий. Обращать матрицы больших размеров выглядит глупой идеей.*"
   ]
  },
  {
   "cell_type": "markdown",
   "metadata": {},
   "source": [
    "**Задание 2.2. Пример: вычисление логарифма плотности многомерного нормального распределения (3 балла)**"
   ]
  },
  {
   "cell_type": "markdown",
   "metadata": {},
   "source": [
    "Случайная величина $\\vec{x}\\in\\mathbb{R}^D$ имеет многомерное нормальное распределение, если её плотность может быть представлена как\n",
    "$$\n",
    "p(\\vec{x}) = \\mathcal{N}(\\vec{x}|\\vec{\\mu},\\Sigma) = \\frac{1}{\\sqrt{2\\pi}^D\\sqrt{\\det\\Sigma}}\\exp\\left(-\\frac{1}{2}(\\vec{x}-\\vec{\\mu})^T\\Sigma^{-1}(\\vec{x}-\\vec{\\mu})\\right)\n",
    "$$\n",
    "Здесь $\\vec{\\mu}\\in\\mathbb{R}^D -$ вектор мат. ожидания $\\vec{x}$, а $\\Sigma\\in\\mathbb{R}^{D{\\times}D} -$ матрица ковариации.\n",
    "\n",
    "С помощью матричных разложений реализуйте алгоритм вычисления логарифма нормальной плотности для набора векторов $X = \\{\\vec{x}_1,\\dots,\\vec{x}_N\\}$ для заданных $\\vec{\\mu}$ и $\\Sigma$."
   ]
  },
  {
   "cell_type": "code",
   "execution_count": 84,
   "metadata": {
    "collapsed": false
   },
   "outputs": [],
   "source": [
    "import math\n",
    "\n",
    "def my_multivariate_normal_logpdf(X, m, S):\n",
    "    L = sla.cholesky(S, lower=True)\n",
    "    detS = 1 \n",
    "    for i in range(len(S)):\n",
    "        detS *= L[i][i] ** 2\n",
    "    D = len(m)\n",
    "    fract = 1. / ((2 * math.pi) ** (D / 2) * detS ** (1. / 2))\n",
    "    ln_fract = np.log(fract)\n",
    "    logpdf = []\n",
    "    for x in X:\n",
    "        power = - 1. / 2 * (x - m).T.dot(sla.cho_solve((L, True), (x - m).T))\n",
    "        logpdf.append(ln_fract + power)\n",
    "    return logpdf"
   ]
  },
  {
   "cell_type": "markdown",
   "metadata": {},
   "source": [
    "Сгенерируйте выборку из нормального распределения со случайными параметрами для небольшого $D$ с помощью функции `scipy.stats.multivariate_normal.rvs` и сравните на этой выборке результат работы вашего алгоритма с результатом стандартной функции `scipy.stats.multivariate_normal.logpdf`"
   ]
  },
  {
   "cell_type": "code",
   "execution_count": 85,
   "metadata": {
    "collapsed": false
   },
   "outputs": [
    {
     "name": "stdout",
     "output_type": "stream",
     "text": [
      "Scipy:\n",
      "[-11.479495945046963, -10.743744821648754, -10.444372918536242]\n",
      "Mine:\n",
      "[-11.479495945046919, -10.743744821648844, -10.444372918536219]\n"
     ]
    }
   ],
   "source": [
    "from scipy.stats import multivariate_normal\n",
    "\n",
    "N = 3\n",
    "D = 3\n",
    "\n",
    "mean = 100 * np.random.random_sample((D,)) - 50\n",
    "cov = 100 * np.random.random_sample((D, D)) - 50\n",
    "cov = cov.T.dot(cov)\n",
    "\n",
    "scipy_logpdf = []\n",
    "samples = []\n",
    "distr = multivariate_normal(mean, cov)\n",
    "for i in range(N):\n",
    "    sample = distr.rvs()\n",
    "    samples.append(sample)\n",
    "    scipy_logpdf.append(distr.logpdf(sample))\n",
    "\n",
    "print(\"Scipy:\")\n",
    "print(scipy_logpdf)\n",
    "print(\"Mine:\")\n",
    "print(my_multivariate_normal_logpdf(samples, mean, cov))"
   ]
  },
  {
   "cell_type": "markdown",
   "metadata": {},
   "source": [
    "Замерьте время работы вашего алгоритма и функции `scipy.stats.multivariate_normal.logpdf` для различных значений $D$. Постарайтесь добиться, чтобы ваш алгоритм выигрывал по скорости у стандартной функции."
   ]
  },
  {
   "cell_type": "code",
   "execution_count": 95,
   "metadata": {
    "collapsed": false
   },
   "outputs": [
    {
     "name": "stdout",
     "output_type": "stream",
     "text": [
      "D = 10\n",
      "Scipy:\n",
      "0.0035820313350996003\n",
      "Mine:\n",
      "0.008248593658208847\n",
      "D = 50\n",
      "Scipy:\n",
      "0.009329275751952082\n",
      "Mine:\n",
      "0.015045729058329016\n",
      "D = 100\n",
      "Scipy:\n",
      "0.025624610294471495\n",
      "Mine:\n",
      "0.024540079321013764\n",
      "D = 200\n",
      "Scipy:\n",
      "0.09209532581735402\n",
      "Mine:\n",
      "0.09726865832635667\n",
      "D = 300\n",
      "Scipy:\n",
      "0.2303849999443628\n",
      "Mine:\n",
      "0.1106833143858239\n"
     ]
    }
   ],
   "source": [
    "Ds = [10, 50, 100, 200, 300]\n",
    "\n",
    "setup_code = \"from __main__ import X, mean, cov, my_multivariate_normal_logpdf, sp\"\n",
    "\n",
    "for D in Ds:\n",
    "    print(\"D =\", D)\n",
    "    mean = (10 * np.random.random_sample((D,)) - 5) / 10.\n",
    "    cov = (10 * np.random.random_sample((D, D)) - 5) / 10.\n",
    "    cov = cov.T.dot(cov)\n",
    "    X = scipy.stats.multivariate_normal.rvs(mean=mean, cov=cov, size=10)\n",
    "    print(\"Scipy:\")\n",
    "    print(timeit.timeit(stmt = \"sp.stats.multivariate_normal.logpdf(X, mean, cov)\", setup = setup_code, number = 10))\n",
    "    print(\"Mine:\")\n",
    "    print(timeit.timeit(stmt = \"my_multivariate_normal_logpdf(X, mean, cov)\", setup = setup_code, number = 10))"
   ]
  },
  {
   "cell_type": "markdown",
   "metadata": {},
   "source": [
    "В задаче будут оцениваться:\n",
    "- удалось ли вам обогнать библиотечную функцию;\n",
    "- использованы ли вы матричные разложения (или просто обратили матрицу:))\n",
    "- наличие дополнительных оптимизаций"
   ]
  },
  {
   "cell_type": "markdown",
   "metadata": {},
   "source": [
    "На больших размерах матриц моя функция хороша! Разложение Холецкого использовалось для нахождения определителя, а вместо обращения решалась система."
   ]
  },
  {
   "cell_type": "markdown",
   "metadata": {},
   "source": [
    "## Часть 3. Разреженные матрицы"
   ]
  },
  {
   "cell_type": "markdown",
   "metadata": {},
   "source": [
    "Матрица называется разреженной, если в ней мало ненулевых элементов.\n",
    "\n",
    "Например, если в матрице $n\\times n$ порядка $O(n)$ ненулевых элементов, она является разреженной.\n",
    "\n",
    "Зачастую размерность разреженных матриц, возникающих в реальных задачах, так велика, что хранить её в памяти вместе с нулями - непозволительная роскошь. Есть несколько экономичных методов хранения:\n",
    "\n",
    "- `Dictionary of Keys` (`DOK`) - словарь `(i,j):element`. \n",
    "\n",
    "    $\\color{green}{\\oplus}$ быстрое добавление элементов с произвольными индексами,\n",
    "  \n",
    "    $\\color{red}{\\ominus}$ любые другие операции будут производиться медленно.\n",
    "\n",
    "\n",
    "- `List of Lists` (`LIL`) - матрица хранится построчно: в виде двух массивов `[l_1,...,l_s]` и `[v_1,...v_s]`, где `l_i` - список номеров столбцов, в которых в i-й строке находится ненулевой элемент, а `v_i` - список соответствующих значений. В целом, подходит для создания в высокой степени разреженной матрицы. Когда все элементы добавлены, лучше перевести в формат `CSR` или `CSC`.\n",
    "\n",
    "    $\\color{green}{\\oplus}$ добавление за линейное время, \n",
    "    \n",
    "    $\\color{green}{\\oplus}$ быстрый доступ к строкам матрицы, \n",
    "    \n",
    "    $\\color{red}{\\ominus}$ может требовать слишком много памяти (для создания матриц повышенной плотности используйте `COO`).\n",
    "\n",
    "    \n",
    "- `Coordinate List` (`COO`) - хранятся тройки `(row, column, value)`  или три массива \\texttt{rows,\\ columns,\\ values}. При этом тройка с одинаковым началом `(row, column)` может быть не одна; при преобразовании к другому типу значения `value` суммируются.\n",
    "\n",
    "    $\\color{green}{\\oplus}$ быстрое добавление новых элементов,\n",
    "    \n",
    "    $\\color{red}{\\ominus}$ для всего остального лучше перевести в другой формат.\n",
    "    \n",
    "    \n",
    "- `Compressed Sparse Row/Column storage` (`CSR/CSC`) - разберём на примере `CSR`. Хранятся три массива: `values`, `indptr` и `indices`. В массиве `values` хранятся все ненулевые элементы матрицы, упорядоченные лексикографически по паре (строка, столбец); `indptr[i]` - индекс начала `i`-й строки, `indices[indptr[i]:indptr[i+1]-1]` - номера столбцов соответствующих элементов.\n",
    "\n",
    "    $\\color{green}{\\oplus}$ быстрое выполнение арифметических операций,\n",
    "    \n",
    "    $\\color{green}{\\oplus}$ быстрый доступ к строкам для `CSR` и к столбцам для `CSC`,\n",
    "    \n",
    "    $\\color{red}{\\ominus}$ очень медленный доступ к столбцам для `CSR` и к строкам для `CSC`,\n",
    "    \n",
    "    $\\color{red}{\\ominus}$ медленное добавление/удаление элементов.\n",
    "  \n",
    "\n",
    "Главный вывод - не надо один и тот же формат использовать для разных целей!\n",
    "\n",
    "Вот здесь http://docs.scipy.org/doc/scipy/reference/sparse.html можно посмотреть, как эти возможности реализованы в библиотеке `scipy`.\n",
    "\n",
    "Вот здесь https://www.cise.ufl.edu/research/sparse/matrices/index.html выложено много разреженных матриц из разнообразных приложений. Что особенно приятно, сайт предоставляет удобный клиент для скачивания, в котором доступен предпросмотр и данные о том, являются ли матрицы симметричными или положительно определёнными."
   ]
  },
  {
   "cell_type": "markdown",
   "metadata": {},
   "source": [
    "**Задание 3.0** Загрузите файл `sparse_matrix1.mtx`"
   ]
  },
  {
   "cell_type": "code",
   "execution_count": 51,
   "metadata": {
    "collapsed": true
   },
   "outputs": [],
   "source": [
    "import scipy.io as sio"
   ]
  },
  {
   "cell_type": "code",
   "execution_count": 220,
   "metadata": {
    "collapsed": false
   },
   "outputs": [],
   "source": [
    "A = sio.mmread(r'Downloads\\sparse_matrix1.mtx') # Please type right folder name! "
   ]
  },
  {
   "cell_type": "markdown",
   "metadata": {},
   "source": [
    "С помощью следующей функции можно посмотреть, как расположены ненулевые элементы матрицы:"
   ]
  },
  {
   "cell_type": "code",
   "execution_count": 221,
   "metadata": {
    "collapsed": false
   },
   "outputs": [
    {
     "data": {
      "text/plain": [
       "<matplotlib.lines.Line2D at 0x7d02190>"
      ]
     },
     "execution_count": 221,
     "metadata": {},
     "output_type": "execute_result"
    },
    {
     "data": {
      "image/png": "[encoded data removed]",
      "text/plain": [
       "<matplotlib.figure.Figure at 0x7d2fab0>"
      ]
     },
     "metadata": {},
     "output_type": "display_data"
    }
   ],
   "source": [
    "plt.spy(A, marker='.', markersize=0.4)"
   ]
  },
  {
   "cell_type": "markdown",
   "metadata": {},
   "source": [
    "В каком из пяти форматов хранится матрица? Для ответа на этот вопрос воспользуйтесь функцию `type`.\n",
    "\n",
    "Сколько в ней ненулевых элементов?"
   ]
  },
  {
   "cell_type": "code",
   "execution_count": 222,
   "metadata": {
    "collapsed": false
   },
   "outputs": [
    {
     "name": "stdout",
     "output_type": "stream",
     "text": [
      "<class 'scipy.sparse.coo.coo_matrix'>\n",
      "nuber of non-zero elements =  94026\n"
     ]
    }
   ],
   "source": [
    "print(type(A))\n",
    "\n",
    "print(\"nuber of non-zero elements = \", A.getnnz())"
   ]
  },
  {
   "cell_type": "markdown",
   "metadata": {},
   "source": [
    "Посмотрим, сколько времени занимает преобразование между разными форматами."
   ]
  },
  {
   "cell_type": "code",
   "execution_count": 224,
   "metadata": {
    "collapsed": false
   },
   "outputs": [
    {
     "data": {
      "text/html": [
       "<div>\n",
       "<table border=\"1\" class=\"dataframe\">\n",
       "  <thead>\n",
       "    <tr style=\"text-align: right;\">\n",
       "      <th></th>\n",
       "      <th>COO</th>\n",
       "      <th>DOK</th>\n",
       "      <th>LIL</th>\n",
       "      <th>CSR</th>\n",
       "      <th>CSC</th>\n",
       "    </tr>\n",
       "  </thead>\n",
       "  <tbody>\n",
       "    <tr>\n",
       "      <th>COO</th>\n",
       "      <td>NaN</td>\n",
       "      <td>0.059411</td>\n",
       "      <td>0.021983</td>\n",
       "      <td>0.000863</td>\n",
       "      <td>0.000775</td>\n",
       "    </tr>\n",
       "    <tr>\n",
       "      <th>DOK</th>\n",
       "      <td>0.105918</td>\n",
       "      <td>NaN</td>\n",
       "      <td>0.155768</td>\n",
       "      <td>0.129062</td>\n",
       "      <td>0.109195</td>\n",
       "    </tr>\n",
       "    <tr>\n",
       "      <th>LIL</th>\n",
       "      <td>0.018858</td>\n",
       "      <td>0.097984</td>\n",
       "      <td>NaN</td>\n",
       "      <td>0.020475</td>\n",
       "      <td>0.023541</td>\n",
       "    </tr>\n",
       "    <tr>\n",
       "      <th>CSR</th>\n",
       "      <td>0.002113</td>\n",
       "      <td>0.083176</td>\n",
       "      <td>0.020399</td>\n",
       "      <td>NaN</td>\n",
       "      <td>0.000883</td>\n",
       "    </tr>\n",
       "    <tr>\n",
       "      <th>CSC</th>\n",
       "      <td>0.001285</td>\n",
       "      <td>0.074366</td>\n",
       "      <td>0.021435</td>\n",
       "      <td>0.000844</td>\n",
       "      <td>NaN</td>\n",
       "    </tr>\n",
       "  </tbody>\n",
       "</table>\n",
       "</div>"
      ],
      "text/plain": [
       "          COO       DOK       LIL       CSR       CSC\n",
       "COO       NaN  0.059411  0.021983  0.000863  0.000775\n",
       "DOK  0.105918       NaN  0.155768  0.129062  0.109195\n",
       "LIL  0.018858  0.097984       NaN  0.020475  0.023541\n",
       "CSR  0.002113  0.083176  0.020399       NaN  0.000883\n",
       "CSC  0.001285  0.074366  0.021435  0.000844       NaN"
      ]
     },
     "execution_count": 224,
     "metadata": {},
     "output_type": "execute_result"
    }
   ],
   "source": [
    "import pandas as pd\n",
    "import timeit\n",
    "\n",
    "A_dok = A.todok()\n",
    "A_lil = A.tolil()\n",
    "A_csc = A.tocsc()\n",
    "A_csr = A.tocsr()\n",
    "\n",
    "conversion_times = pd.DataFrame(\n",
    "    index=['COO', 'DOK', 'LIL', 'CSR', 'CSC'],\n",
    "    columns=['COO', 'DOK', 'LIL', 'CSR', 'CSC'],\n",
    "    data={\n",
    "        'COO': [\n",
    "            np.nan,\n",
    "            timeit.timeit('A.todok()', 'from __main__ import A', number=100) / 100,\n",
    "            timeit.timeit('A.tolil()', 'from __main__ import A', number=100) / 100,\n",
    "            timeit.timeit('A.tocsr()', 'from __main__ import A', number=100) / 100,\n",
    "            timeit.timeit('A.tocsc()', 'from __main__ import A', number=100) / 100,\n",
    "               ],\n",
    "        'DOK': [\n",
    "            timeit.timeit('A_dok.tocoo()', 'from __main__ import A_dok', number=100) / 100,\n",
    "            np.nan,\n",
    "            timeit.timeit('A_dok.tolil()', 'from __main__ import A_dok', number=100) / 100,\n",
    "            timeit.timeit('A_dok.tocsr()', 'from __main__ import A_dok', number=100) / 100,\n",
    "            timeit.timeit('A_dok.tocsc()', 'from __main__ import A_dok', number=100) / 100,\n",
    "               ],\n",
    "        'LIL': [\n",
    "            timeit.timeit('A_lil.tocoo()', 'from __main__ import A_lil', number=100) / 100,\n",
    "            timeit.timeit('A_lil.todok()', 'from __main__ import A_lil', number=100) / 100,\n",
    "            np.nan,\n",
    "            timeit.timeit('A_lil.tocsr()', 'from __main__ import A_lil', number=100) / 100,\n",
    "            timeit.timeit('A_lil.tocsc()', 'from __main__ import A_lil', number=100) / 100,\n",
    "               ],\n",
    "        'CSR': [\n",
    "            timeit.timeit('A_csr.tocoo()', 'from __main__ import A_csr', number=100) / 100,\n",
    "            timeit.timeit('A_csr.todok()', 'from __main__ import A_csr', number=100) / 100,\n",
    "            timeit.timeit('A_csr.tolil()', 'from __main__ import A_csr', number=100) / 100,\n",
    "            np.nan,\n",
    "            timeit.timeit('A_csr.tocsc()', 'from __main__ import A_csr', number=100) / 100,\n",
    "               ],\n",
    "        'CSC': [\n",
    "            timeit.timeit('A_csc.tocoo()', 'from __main__ import A_csc', number=100) / 100,\n",
    "            timeit.timeit('A_csc.todok()', 'from __main__ import A_csc', number=100) / 100,\n",
    "            timeit.timeit('A_csc.tolil()', 'from __main__ import A_csc', number=100) / 100,\n",
    "            timeit.timeit('A_csc.tocsr()', 'from __main__ import A_csc', number=100) / 100,\n",
    "            np.nan,\n",
    "               ],\n",
    "    }\n",
    "    )\n",
    "\n",
    "conversion_times.T"
   ]
  },
  {
   "cell_type": "markdown",
   "metadata": {},
   "source": [
    "Как вы можете убедиться, быстрее всего преобразования происходят между форматами `COO`, `CSR` и `CSC`, а хуже всего дела обстоят с форматом `DOK`: все преобразования из него занимают чудовищно много времени."
   ]
  },
  {
   "cell_type": "markdown",
   "metadata": {},
   "source": [
    "**Задание 3.1 (0,5 балла)** Почему преобразование из формата `LIL` в формат `CSR` занимает такую пропасть времени?\n",
    "\n",
    "----\n",
    "Вообще говоря алгоритм довольно простой. Мы проходимся последовательно по спискам (одноременно и по списку значений, и по списку столбцов) и копируем значения с индексами столбцов. При переходе на новый список записываем значение в indptr. Вся сложность в том, что мы идём одновременно по двум спискам. Из-за этого количество операций выше, чем в более удобных преобразованиях. Ко всему нужно следить за массивом indices. Получаем линейное время для заполнения каждого массива, но в итоге получаем большую константу."
   ]
  },
  {
   "cell_type": "markdown",
   "metadata": {},
   "source": [
    "**Задание 3.2 (1 балл)** Торговая сеть предоставила вам данные о покупках своих клиентов, представляющие собою список из нескольких сотен тысяч чеков (списков покупок). Для того, чтобы определить, какие товары чаще покупают вместе, вы решили построить матрицу, строки и столбцы которой соответствуют различным товарам (предположим, что число различных товаров тоже измеряется сотнями тысяч), а в клетке с \"номером\" $(g_1, g_2)$ стоит число\n",
    "\n",
    "$\\log_2{\\frac{N\\cdot c(g_1 \\& g_2)}{c(g_1)c(g_2)}},$\n",
    "\n",
    "где $c(g_i)$ --- количество чеков, содержащих товар $g_i$, $c(g_1 \\& g_2)$ --- количество чеков, содержащих оба товара, $N$ --- общее число чеков. В каком формате вы будете создавать эту (очевидно разреженную) матрицу? Почему?"
   ]
  },
  {
   "cell_type": "markdown",
   "metadata": {},
   "source": [
    "*Первоначально удобно добавлять в COO. Но в клетках писать 1. Тогда получим общее количество, а при переходе в другой формат (например CSR) в клетках получим количество совместных чеков. После этого можно пройти по всем элементам и, учитывая, что мы уже знаем все параметры, то можно пересчитать значение и получить готовую матрицу.*"
   ]
  },
  {
   "cell_type": "markdown",
   "metadata": {},
   "source": [
    "Напишите максимально эффективный код, создающий эту матрицу:"
   ]
  },
  {
   "cell_type": "code",
   "execution_count": null,
   "metadata": {
    "collapsed": true
   },
   "outputs": [],
   "source": [
    "def CreateMatrix(receipts):\n",
    "    row = []\n",
    "    column = []\n",
    "    value = []\n",
    "    counter = 0\n",
    "    for receipt in receipts:\n",
    "        for pair in receipt.pairs:\n",
    "            row.append(pair.first)\n",
    "            column.append(pair.second)\n",
    "            value.append(1)\n",
    "            counter++\n",
    "    counter /= 2  \n",
    "    log_N = np.log(counter)\n",
    "    A = scipy.sparse.coo_matrix((value, (row, column))\n",
    "    A = A.tocsr()\n",
    "    for i in range(len(A.indptr)):\n",
    "        offset = 0\n",
    "        for j in A.indices[indptr[i]:indptr[i+1]-1]:\n",
    "            A.data[indptr[i] + offset] = log_N + np.log(A.data[indptr[i] + offset]) \n",
    "                                - np.log(A.indptr[i+1]-A.indptr[i]) \n",
    "                                - np.log(A.indptr[j+1]-A.indptr[j])"
   ]
  },
  {
   "cell_type": "markdown",
   "metadata": {},
   "source": [
    "**Задание 3.3 (1 балл)** В каком из форматов `LIL` и `COO` умножение на вектор происходит быстрее? Почему? Проведите эксперименты. Можете воспользоваться функцией `scipy.sparse.random` для создания случайных разреженных матриц.\n",
    "\n",
    "Насколько быстрее с аналогичной задачей будут справляться форматы `CSC` и `CSR`?"
   ]
  },
  {
   "cell_type": "code",
   "execution_count": 47,
   "metadata": {
    "collapsed": false
   },
   "outputs": [
    {
     "name": "stdout",
     "output_type": "stream",
     "text": [
      "LIL:  0.16741762739184196\n",
      "COO:  0.00258773539098911\n",
      "CSC:  0.12201657758669171\n",
      "CSR:  0.0016965040977083845\n"
     ]
    }
   ],
   "source": [
    "N = 10000\n",
    "A = scipy.sparse.random(N, N)\n",
    "b = scipy.random.random(N)\n",
    "A_lil = A.tolil()\n",
    "A_coo = A.tocoo()\n",
    "A_csc = A.tocsc()\n",
    "A_csr = A.tocsr()\n",
    "t_lil = timeit.timeit(\"A_lil * b\", \"from __main__ import A_lil, b\", number=1)\n",
    "t_coo = timeit.timeit(\"A_coo * b\", \"from __main__ import A_coo, b\", number=1)\n",
    "t_csc = timeit.timeit(\"A_csc * b\", \"from __main__ import A_csc, b\", number=1)\n",
    "t_csr = timeit.timeit(\"A_csr * b\", \"from __main__ import A_csr, b\", number=1)\n",
    "print(\"LIL: \", t_lil)\n",
    "print(\"COO: \", t_coo)\n",
    "print(\"CSC: \", t_csc)\n",
    "print(\"CSR: \", t_csr)"
   ]
  },
  {
   "cell_type": "markdown",
   "metadata": {
    "collapsed": true
   },
   "source": [
    "При формате COO просто проходясь по всем тройкам мы можем изменить value каждой умножив на соотвествующий элемент, так как индекс столбца известен. В то же время для LIL обращаемся к каждой строке поочередно, после идем параллельно по двум спискам и перемножаем значение на элемент вектора соответствующего индекса, полученного из второго списка. Вероятно, эти метания забирают драгоценное время.\n",
    "CSC, конечно, имеет муторный механизм доступа к строкам, поэтому получаем долгое время выполнения. CSR быстрее COO на константу. Из-за возможного наличия дубликатов в COO формате мы неэффективно расходуем время."
   ]
  },
  {
   "cell_type": "markdown",
   "metadata": {},
   "source": [
    "## Часть 4. Итерационные методы"
   ]
  },
  {
   "cell_type": "markdown",
   "metadata": {},
   "source": [
    "В этом задании вам предлагается поработать с итеративными методами решения систем уравнений.\n",
    "\n",
    "Соответствующие функции реализованы в пакете `scipy.sparse.linalg` (http://docs.scipy.org/doc/scipy-0.14.0/reference/sparse.linalg.html). Пожалуйста, читайте документацию перед их применением!"
   ]
  },
  {
   "cell_type": "markdown",
   "metadata": {},
   "source": [
    "В этом задании вам предстоит поближе познакомиться с двумя итеративными методами:\n",
    "\n",
    "1. **(L)GMRES** (мы настоятельно рекомендуем использовать оптимизированную функцию `scipy.sparse.linalg.lgmres`, даже если вам нужен обыкновенный **GMRES**)\n",
    "\n",
    "2. **CG** (вызывается функцией `scipy.sparse.linalg.cg`)\n",
    "\n",
    "*Замечания*:\n",
    "1. Функции `scipy.sparse.linalg.lgmres` и `scipy.sparse.linalg.cs` устроены так, что могут решать уравнения только с векторной правой частью.\n",
    "2. Внимательно ознакомьтесь с параметрами (у функции `scipy.sparse.linalg.lgmres` их очень много) и обратите внимание на формат вывода функций.\n",
    "3. Вы можете захотеть выводить/сохранять что-нибудь после каждой итерации. Для этого существует параметр `callback`: это функция с сигнатурой `callback(xk)`, вызываемая на каждой итерации. Её аргумент `xk` - это текущее приближение $x_k$. Вот пример вызова функции `lgmres`, печатающей норму текущего приближения:"
   ]
  },
  {
   "cell_type": "code",
   "execution_count": null,
   "metadata": {
    "collapsed": true
   },
   "outputs": [],
   "source": [
    "x = spla.gmres(A, b, callback=lambda xk: print(sla.norm(xk))"
   ]
  },
  {
   "cell_type": "markdown",
   "metadata": {},
   "source": [
    "Если вы захотите что-нибудь сохранять по ходу дела, логичнее использовать для этого класс. Ниже приводим пример класса, считающего число итераций и выводящего (если указан флаг `disp`) номер каждой итерации на печать, а также запоминающего все промежуточные приближения (не делайте так для больших систем! вам может не хватить памяти):"
   ]
  },
  {
   "cell_type": "code",
   "execution_count": null,
   "metadata": {
    "collapsed": true
   },
   "outputs": [],
   "source": [
    "class iterative_counter(object):\n",
    "    def __init__(self, disp=True):\n",
    "        self._disp = disp\n",
    "        self.niter = 0\n",
    "        self.all_x = [] # Please discard this if you solve large systems!!!\n",
    "        \n",
    "    def __call__(self, xk=None):\n",
    "        self.niter += 1\n",
    "        self.all_x.append(xk) # Please discard this if you solve large systems!!!\n",
    "        if self._disp:\n",
    "            print('iter %3i' % (self.niter))\n",
    "            \n",
    "my_counter = gmres_counter() # We need to create an instance of the class\n",
    "\n",
    "x = spla.gmres(A, b, callback=my_counter)\n",
    "\n",
    "print(my_counter.niter) # Will print total number of iterations"
   ]
  },
  {
   "cell_type": "markdown",
   "metadata": {},
   "source": [
    "**Задание 4.1 (3 балла)** Довольно игр! Пора решать большие системы. Загрузите матрицу из файла `large_system.mtx` (она симметричная и положительно определённая) и сгенерируйте случайную правую часть. Решите систему с помощью функции `scipy.sparse.linalg.spsolve` (сильно оптимизированный \"точный\" решатель) и с помощью итеративных методов `LGMRES` и `CG`. Сравните скорость работы этих методов.\n",
    "\n",
    "Постарайтесь обогнать функцию `spsolve`, применяя предобуславливание с помощью одной итерации метода Якоби или с помощью неполного LU-разложения. Для ILU постарайтесь подобрать оптимальные значения коэффициентов `fill_factor` и `drop_tol`.\n",
    "\n",
    "*Замечание.* Если матрица-предобуславливатель $P$ не совсем уж тривиальная, не надо её обращать и умножать на исходную матрицу!\n",
    "\n",
    "В каждом из итеративных методов можно включить предобуславливание с помощью параметра `M`. В качестве этого параметра нужно передать либо матрицу $P^{-1}$, либо **линейный оператор**, осуществляющий умножение вектора на $P^{-1}$. По понятным причинам второе гораздо правильнее. Делается это следующим образом. Например, если вы хотите ввести предобуславливание с конкретной матрицей $P$ для решения системы $Ax = b$:"
   ]
  },
  {
   "cell_type": "code",
   "execution_count": null,
   "metadata": {
    "collapsed": true
   },
   "outputs": [],
   "source": [
    "M = spla.LinearOperator(A.shape, lambda x: spla.spsolve(P, x))\n",
    "\n",
    "x = spla.lgmres(A, b, M=M)"
   ]
  },
  {
   "cell_type": "markdown",
   "metadata": {
    "collapsed": true
   },
   "source": [
    "А вот как это работает для неполного LU-разложения:"
   ]
  },
  {
   "cell_type": "code",
   "execution_count": null,
   "metadata": {
    "collapsed": true
   },
   "outputs": [],
   "source": [
    "my_ILU = spla.spilu(A, '''Add your parameters here''')\n",
    "M = spla.LinearOperator(A.shape, lambda x: my_ILU.solve(x))\n",
    "\n",
    "x = spla.lgmres(A, b, M=M)"
   ]
  },
  {
   "cell_type": "markdown",
   "metadata": {
    "collapsed": true
   },
   "source": [
    "Обратите внимание, что `my_ILU` --- это не просто tuple из четырёх матриц (`spilu` делает разложение вида $P_1AP_2 = LU$, где $P_i$ --- матрицы перестановок). В самом деле, как вы уже, наверное, поняли, в мире больших размерностей иметь матрицу --- это зачастую бесполезное или даже вредное занятие. Гораздо ценнее уметь быстро решать систему с этой матрицей. Поэтому `my_ILU` --- это в первую очередь не разложение (впрочем, матрицы при желании тоже можно извлечь), а оптимизированный решатель `solve`."
   ]
  },
  {
   "cell_type": "code",
   "execution_count": 59,
   "metadata": {
    "collapsed": false
   },
   "outputs": [],
   "source": [
    "A = sio.mmread(r'C:/Users/ш/Downloads/Pres_Poisson.mtx')\n",
    "A = A.tocsc()\n",
    "b = np.random.rand(A.shape[0])"
   ]
  },
  {
   "cell_type": "code",
   "execution_count": 83,
   "metadata": {
    "collapsed": false
   },
   "outputs": [
    {
     "name": "stdout",
     "output_type": "stream",
     "text": [
      "my lgmres execution time:  115.85628168382391\n",
      "my lgmres execution time (bigger tolerance):  0.24343016277998686\n",
      "spsolve execution time:  1.1020143366768025\n",
      "lgmres execution time:  44.729508736534626\n",
      "cg execution time:  4.8581556644057855\n"
     ]
    }
   ],
   "source": [
    "my_ILU = spla.spilu(A, drop_tol=10**-6, fill_factor=10)\n",
    "M = spla.LinearOperator(A.shape, lambda x: my_ILU.solve(x))\n",
    "\n",
    "my_lgmres = timeit.timeit(\"spla.lgmres(A, b, M=M, tol=10**-12)\", \"from __main__ import spla, A, b, M\", number=1)\n",
    "my_lgmres_ultra = timeit.timeit(\"spla.lgmres(A, b, M=M, tol=10**-10)\", \"from __main__ import spla, A, b, M\", number=1)\n",
    "spsolve = timeit.timeit(\"spla.spsolve(A, b)\", \"from __main__ import spla, A, b\", number=1)\n",
    "lgmres = timeit.timeit(\"spla.lgmres(A, b, tol=10**-5)\", \"from __main__ import spla, A, b\", number=1)\n",
    "cg = timeit.timeit(\"spla.cg(A, b, tol=10**-10)\", \"from __main__ import spla, A, b\", number=1)\n",
    "\n",
    "print(\"my lgmres execution time: \", my_lgmres) # с применением неполного LU-разложения с эмпирически подобранными параметрами\n",
    "print(\"my lgmres execution time (bigger tolerance): \", my_lgmres_ultra) # с применением неполного LU-разложения с эмпирически подобранными параметрами\n",
    "print(\"spsolve execution time: \", spsolve)\n",
    "print(\"lgmres execution time: \", lgmres)\n",
    "print(\"cg execution time: \", cg)"
   ]
  },
  {
   "cell_type": "markdown",
   "metadata": {},
   "source": [
    "Строго говоря, если нам достаточно 10 знаков точности (а нам прям достаточно), то использование неполного LU-разложения существенно повышает скорость и занимает первое место. Если попросить 12 знаков, то скорость сразу же падает катастрофически. Если не использовать разложение, то lgmres ужасно медленный. Мы попросили подсчитать первые 5 знаков после запятой, а он считал их 40 секунд, ужас."
   ]
  },
  {
   "cell_type": "markdown",
   "metadata": {},
   "source": [
    "## Часть 5. Матричные дифференцирования"
   ]
  },
  {
   "cell_type": "markdown",
   "metadata": {},
   "source": [
    "**Задача 5.1 (1 балл)** Пусть $f$ --- функция на множестве квадратных матриц $n\\times n$, а $g$ --- функция на множестве симметричных матриц $n\\times n$, совпадающая с $f$ на своей области определения. Докажите, что\n",
    "\n",
    "$$\\frac{\\partial g}{\\partial X} = \\frac{\\partial f}{\\partial X} + \\left(\\frac{\\partial f}{\\partial X}\\right)^T -\n",
    "\\mathrm{diag}\\left(\\frac{\\partial f}{\\partial x_{11}}, \\frac{\\partial f}{\\partial x_{22}},\\ldots,\n",
    "\\frac{\\partial f}{\\partial x_{nn}}\\right)$$"
   ]
  },
  {
   "cell_type": "markdown",
   "metadata": {},
   "source": [
    "При $i \\neq j$:\n",
    "$$\\frac{\\partial g}{\\partial x_{ij}} = \n",
    "\\begin{bmatrix}\n",
    "    0 & \\dots & \\dots & \\dots  & 0 \\\\\n",
    "    \\vdots & \\ddots & \\dots & g'_{ij} & \\vdots \\\\\n",
    "    \\vdots & \\dots & \\ddots & \\dots  & \\vdots \\\\\n",
    "    \\vdots & g'_{ji} & \\dots & \\ddots & \\vdots \\\\\n",
    "    0 & \\dots & \\dots & \\dots  & 0\n",
    "\\end{bmatrix} =\n",
    "\\begin{bmatrix}\n",
    "    0 & \\dots & \\dots & \\dots  & 0 \\\\\n",
    "    \\vdots & \\ddots & \\dots & f'_{ij} & \\vdots \\\\\n",
    "    \\vdots & \\dots & \\ddots & \\dots  & \\vdots \\\\\n",
    "    \\vdots & f'_{ji} & \\dots & \\ddots & \\vdots \\\\\n",
    "    0 & \\dots & \\dots & \\dots  & 0\n",
    "\\end{bmatrix} =\n",
    "\\frac{\\partial f}{\\partial x_{ij}} + \\frac{\\partial f}{\\partial x_{ji}}$$\n",
    "\n",
    "При $i = j$:\n",
    "$$\\frac{\\partial g}{\\partial x_{ii}} = \\frac{\\partial f}{\\partial x_{ii}}$$\n",
    "\n",
    "Тогда, переписав в матричной форме, как раз получим\n",
    "$$\\frac{\\partial g}{\\partial X} = \\frac{\\partial f}{\\partial X} + \\left(\\frac{\\partial f}{\\partial X}\\right)^T -\n",
    "\\mathrm{diag}\\left(\\frac{\\partial f}{\\partial x_{11}}, \\frac{\\partial f}{\\partial x_{22}},\\ldots,\n",
    "\\frac{\\partial f}{\\partial x_{nn}}\\right)$$"
   ]
  },
  {
   "cell_type": "markdown",
   "metadata": {},
   "source": [
    "**Задача 5.2 (0.5 балла)** Найдите производную\n",
    "\n",
    "$$\\frac{\\partial\\mathrm{tr}\\left(AX^2BX^{-T}\\right)}{\\partial X}$$"
   ]
  },
  {
   "cell_type": "markdown",
   "metadata": {},
   "source": [
    "$$\n",
    "\\frac{\\partial\\mathrm{tr}\\left(AX^2BX^{-T}\\right)}{\\partial x_{ij}} = \n",
    "tr\\left(\\frac{\\partial\\mathrm{\\left(AX^2BX^{-T}\\right)}}{\\partial x_{ij}}\\right) = \n",
    "tr\\left(A\\frac{\\partial{X^2}}{x_{ij}}BX^{-T} + AX^2B\\frac{\\partial{X^{-T}}}{x_{ij}}\\right) = \n",
    "tr\\left(AX\\frac{\\partial{X}}{x_{ij}}BX^{-T} + A\\frac{\\partial{X}}{x_{ij}}XBX^{-T} - AX^2B\\left(X^{-1}\\frac{\\partial{X}}{x_{ij}}X^{-1}\\right)^T\\right) = \n",
    "tr\\left(AXE_{ij}BX^{-T} + AE_{ij}XBX^{-T} - AX^2BX^{-T}E_{ji}X^{-T}\\right) =\n",
    "tr\\left(BX^{-T}AXE_{ij} + XBX^{-T}AE_{ij} - X^{-T}AX^2BX^{-T}E_{ji}\\right) \\\\\\\\\n",
    "\\frac{\\partial\\mathrm{tr}\\left(AX^2BX^{-T}\\right)}{\\partial X} = \\\\ \n",
    "BX^{-T}AX + XBX^{-T}A - (X^{-T}AX^2BX^{-T})^T =\n",
    "BX^{-T}AX + XBX^{-T}A - X^{-1}B^TX^{2T}A^TX^{-1}\n",
    "$$"
   ]
  },
  {
   "cell_type": "markdown",
   "metadata": {},
   "source": [
    "**Задача 5.3 (0.5 балла)** Найдите производную\n",
    "\n",
    "$$\\frac{\\partial\\ln{\\det\\left(X^TAX\\right)}}{\\partial X}$$"
   ]
  },
  {
   "cell_type": "markdown",
   "metadata": {},
   "source": [
    "$$\n",
    "\\frac{\\partial\\ln{\\det\\left(X^TAX\\right)}}{\\partial x_{ij}} =\n",
    "tr\\left( \\left(X^TAX\\right)^{-1} \\frac{\\partial{\\left(X^TAX\\right)}}{\\partial{x_{ij}}} \\right) =\n",
    "tr\\left( \\left(X^TAX\\right)^{-1} \\left(\\frac{\\partial{\\left(X^T\\right)}}{\\partial{x_{ij}}}AX + \n",
    "X^TA\\frac{\\partial{\\left(X\\right)}}{\\partial{x_{ij}}} \\right)\\right) = \n",
    "tr\\left( \\left(X^TAX\\right)^{-1} \\left(E_{ji}AX + X^TAE_{ij} \\right)\\right) = \n",
    "tr\\left( AX\\left(X^TAX\\right)^{-1} E_{ji} + \\left(X^TAX\\right)^{-1}X^TAE_{ij} \\right)\\\\\n",
    "\\frac{\\partial\\ln{\\det\\left(X^TAX\\right)}}{\\partial X} = \n",
    "\\left(AX\\left(X^TAX\\right)^{-1}\\right)^T + \\left(X^TAX\\right)^{-1}X^TA = \n",
    "\\left(X^{-1}A^{-1}X^{-T}\\right)^TX^TA^T + X^{-1}A^{-1}X^{-T} X^TA = \n",
    "2X^{-1}\n",
    "$$"
   ]
  },
  {
   "cell_type": "markdown",
   "metadata": {},
   "source": [
    "**Задача 5.4 (1 балл)** Допустим, что векторы $y_1,\\ldots,y_m$ выбраны из многомерного нормального распределения с неизвестными вектором средних $m$ и ковариационной матрицей $\\Sigma$. В этом задании вам нужно будет найти оценки максимального правдоподобия $\\hat{m}$ и $\\hat{\\Sigma}$.\n",
    "\n",
    "Напомним вкратце, что такое оценка максимального правдоподобия в случае непрерывного распределения. Пусть $p(x|\\theta_1,\\ldots,\\theta_k)$ --- функция плотности распределения с неизвестными нам параметрами $\\theta_1,\\ldots,\\theta_k$, а $y_1,\\ldots,y_m$ --- выборка из этого распределения. \\textit{Функцией правдоподобия} назовём произведение $L(y_1\\ldots,y_m|\\theta_1,\\ldots,\\theta_k) := \\prod_{j=1}^kp(y_j|\\theta_1,\\ldots,\\theta_k)$; грубо говоря, это произведение показывает, насколько правдоподобно появление данной выборки $y_1,\\ldots,y_m$ при данных значениях параметров. В качестве оценки максимального правдоподобия выбирают те значения параметров, при которых функция правдоподобия достигает максимума. При этом как правило удобнее максимизировать не саму функцию правдоподобия, а *логарифмическую функцию правдоподобия* $l(y_1\\ldots,y_m|\\theta_1,\\ldots,\\theta_k) = \\ln{L(y_1\\ldots,y_m|\\theta_1,\\ldots,\\theta_k)}$.\n",
    "\n",
    "*Подсказка*. Постарайтесь превратить $\\sum_i(x_i - m)^T\\Sigma^{-1}(x_i - m)$ в функцию от матрицы $X$, столбцами которой являются векторы $x_i$."
   ]
  }
 ],
 "metadata": {
  "kernelspec": {
   "display_name": "Python 2",
   "language": "python",
   "name": "python2"
  },
  "language_info": {
   "codemirror_mode": {
    "name": "ipython",
    "version": 2
   },
   "file_extension": ".py",
   "mimetype": "text/x-python",
   "name": "python",
   "nbconvert_exporter": "python",
   "pygments_lexer": "ipython2",
   "version": "2.7.6"
  }
 },
 "nbformat": 4,
 "nbformat_minor": 0
}
